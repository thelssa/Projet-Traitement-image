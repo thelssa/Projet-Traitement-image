{
 "cells": [
  {
   "cell_type": "code",
   "execution_count": null,
   "metadata": {},
   "outputs": [],
   "source": [
    "import yaml\n",
    "import tkinter as tk\n",
    "from tkinter import filedialog\n",
    "import requests\n",
    "from azure.cognitiveservices.vision.computervision import ComputerVisionClient\n",
    "from azure.cognitiveservices.vision.computervision.models import VisualFeatureTypes\n",
    "from msrest.authentication import CognitiveServicesCredentials\n",
    "import tensorflow as tf\n",
    "import tensorflow_hub as hub\n",
    "from transformers import GPT2Tokenizer, GPT2Model\n",
    "import openai\n",
    "\n",
    "# Charge les clés d'API depuis le fichier keys.yaml\n",
    "def load_api_keys():\n",
    "    with open('private/keys.yaml', 'r') as file:\n",
    "        keys = yaml.safe_load(file)\n",
    "    return keys\n",
    "\n",
    "# Chargement des clés d'API\n",
    "keys = load_api_keys()\n",
    "\n",
    "# Initialisation du client Azure Computer Vision\n",
    "computervision_client = ComputerVisionClient(keys['azure_endpoint'], CognitiveServicesCredentials(keys['azure_key']))\n",
    "\n",
    "# Clé pour OpenAI (GPT-3)\n",
    "openai.api_key = keys['openai_key']\n",
    "\n",
    "# Initialisation du tokenizer et du modèle GPT-2\n",
    "tokenizer = GPT2Tokenizer.from_pretrained(\"gpt2\")\n",
    "model = GPT2Model.from_pretrained(\"gpt2\")\n"
   ]
  }
 ],
 "metadata": {
  "language_info": {
   "name": "python"
  }
 },
 "nbformat": 4,
 "nbformat_minor": 2
}
